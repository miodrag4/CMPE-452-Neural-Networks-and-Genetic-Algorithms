{
 "cells": [
  {
   "cell_type": "markdown",
   "id": "1e6f1ce7",
   "metadata": {},
   "source": [
    "# CISC/CMPE 452/COGS 400 Assignment 1 - Perceptron (10 points)  \n",
    "\n",
    "Please put your name and student id here\n",
    "\n",
    "    Mile Stosic , #20233349\n",
    "\n",
    "- The notebook file has clearly marked blocks where you are expected to write code. Do not write or modify any code outside of these blocks.\n",
    "- Make sure to restart and run all the cells from the beginning before submission. Do not clear out the outputs.\n",
    "- Mark will be deducted based on late policy (-1% of the course total marks per day after due date until the end date after which no assignments will be accepted)\n",
    "\n"
   ]
  },
  {
   "cell_type": "markdown",
   "id": "51ca32e4",
   "metadata": {},
   "source": [
    "### Build Model (6 points)  \n",
    "Implement **Simple Feedback Learning** for emotion classification (dataset from: https://www.kaggle.com/praveengovi/emotions-dataset-for-nlp)\n",
    "\n",
    "Use the correct/incorrect feedback and info about (y>d) or (y<d) to change weights.  \n",
    "Refer to the **Perceptron slides**  \n",
    "\n",
    "- 1. Implement forward and calculate the output (2 point)  \n",
    "- 2. Update the weights and bias (2 points)  \n",
    "- 3. Predict function (1 point)  \n",
    "- 4. Activation function (1 point)  \n",
    "\n",
    "### Evaluator Function (2 point)  \n",
    "Implement the evaluator function with Pytorch or Numpy only   \n",
    "- Evaluation metrics include confusion matrix, accuracy, recall score, precision and F1 score\n",
    "\n",
    "### Train and Evaluate the Model (2 point)  \n",
    "Train the model with customized learning rate and number of iterations  \n",
    "Use the predict function to predict the labels with the test dataset  \n",
    "Evaluate the prediction results  \n",
    "- Evaluation metrics include confusion matrix, accuracy, recall score, precision and F1 score\n"
   ]
  },
  {
   "cell_type": "code",
   "execution_count": 258,
   "id": "e88fb434",
   "metadata": {
    "_cell_guid": "b1076dfc-b9ad-4769-8c92-a6c4dae69d19",
    "_uuid": "8f2839f25d086af736a60e9eeb907d3b93b6e0e5",
    "execution": {
     "iopub.execute_input": "2021-07-30T15:55:22.461852Z",
     "iopub.status.busy": "2021-07-30T15:55:22.461145Z",
     "iopub.status.idle": "2021-07-30T15:55:22.477161Z",
     "shell.execute_reply": "2021-07-30T15:55:22.476528Z",
     "shell.execute_reply.started": "2021-07-30T15:51:46.068206Z"
    },
    "papermill": {
     "duration": 0.128227,
     "end_time": "2021-07-30T15:55:22.477337",
     "exception": false,
     "start_time": "2021-07-30T15:55:22.349110",
     "status": "completed"
    },
    "tags": []
   },
   "outputs": [],
   "source": [
    "import numpy as np\n",
    "import pandas as pd\n",
    "import matplotlib.pyplot as plt"
   ]
  },
  {
   "cell_type": "code",
   "execution_count": 259,
   "id": "ec206866",
   "metadata": {
    "execution": {
     "iopub.execute_input": "2021-07-30T15:55:22.527612Z",
     "iopub.status.busy": "2021-07-30T15:55:22.527076Z",
     "iopub.status.idle": "2021-07-30T15:55:22.630770Z",
     "shell.execute_reply": "2021-07-30T15:55:22.630179Z",
     "shell.execute_reply.started": "2021-07-30T15:51:49.309549Z"
    },
    "papermill": {
     "duration": 0.129591,
     "end_time": "2021-07-30T15:55:22.630946",
     "exception": false,
     "start_time": "2021-07-30T15:55:22.501355",
     "status": "completed"
    },
    "tags": []
   },
   "outputs": [],
   "source": [
    "# load dataset\n",
    "# Define the file paths using the variable\n",
    "file_path = \"C:/Users/miles/OneDrive - Queen's University/Eng Year 4 - 2024/CMPE 452/Assignment #1/data/data/\"\n",
    "train_file = file_path + \"train.txt\"\n",
    "test_file = file_path + \"test.txt\"\n",
    "\n",
    "# Read the train and test files into dataframes\n",
    "df_train = pd.read_csv(train_file, names=['Text', 'Emotion'], sep=';')\n",
    "df_test = pd.read_csv(test_file, names=['Text', 'Emotion'], sep=';')"
   ]
  },
  {
   "cell_type": "code",
   "execution_count": 260,
   "id": "45b67a79",
   "metadata": {},
   "outputs": [
    {
     "data": {
      "text/html": [
       "<div>\n",
       "<style scoped>\n",
       "    .dataframe tbody tr th:only-of-type {\n",
       "        vertical-align: middle;\n",
       "    }\n",
       "\n",
       "    .dataframe tbody tr th {\n",
       "        vertical-align: top;\n",
       "    }\n",
       "\n",
       "    .dataframe thead th {\n",
       "        text-align: right;\n",
       "    }\n",
       "</style>\n",
       "<table border=\"1\" class=\"dataframe\">\n",
       "  <thead>\n",
       "    <tr style=\"text-align: right;\">\n",
       "      <th></th>\n",
       "      <th>Text</th>\n",
       "      <th>Emotion</th>\n",
       "    </tr>\n",
       "  </thead>\n",
       "  <tbody>\n",
       "    <tr>\n",
       "      <th>0</th>\n",
       "      <td>i didnt feel humiliated</td>\n",
       "      <td>sadness</td>\n",
       "    </tr>\n",
       "    <tr>\n",
       "      <th>1</th>\n",
       "      <td>i can go from feeling so hopeless to so damned...</td>\n",
       "      <td>sadness</td>\n",
       "    </tr>\n",
       "    <tr>\n",
       "      <th>2</th>\n",
       "      <td>im grabbing a minute to post i feel greedy wrong</td>\n",
       "      <td>anger</td>\n",
       "    </tr>\n",
       "    <tr>\n",
       "      <th>3</th>\n",
       "      <td>i am ever feeling nostalgic about the fireplac...</td>\n",
       "      <td>love</td>\n",
       "    </tr>\n",
       "    <tr>\n",
       "      <th>4</th>\n",
       "      <td>i am feeling grouchy</td>\n",
       "      <td>anger</td>\n",
       "    </tr>\n",
       "  </tbody>\n",
       "</table>\n",
       "</div>"
      ],
      "text/plain": [
       "                                                Text  Emotion\n",
       "0                            i didnt feel humiliated  sadness\n",
       "1  i can go from feeling so hopeless to so damned...  sadness\n",
       "2   im grabbing a minute to post i feel greedy wrong    anger\n",
       "3  i am ever feeling nostalgic about the fireplac...     love\n",
       "4                               i am feeling grouchy    anger"
      ]
     },
     "execution_count": 260,
     "metadata": {},
     "output_type": "execute_result"
    }
   ],
   "source": [
    "x_train = df_train['Text']\n",
    "y_train = df_train['Emotion']\n",
    "\n",
    "x_test = df_test['Text']\n",
    "y_test = df_test['Emotion']\n",
    "\n",
    "df_train.head()"
   ]
  },
  {
   "cell_type": "code",
   "execution_count": 261,
   "id": "7d9b94da",
   "metadata": {
    "execution": {
     "iopub.execute_input": "2021-07-30T15:55:22.734110Z",
     "iopub.status.busy": "2021-07-30T15:55:22.733595Z",
     "iopub.status.idle": "2021-07-30T15:55:23.506339Z",
     "shell.execute_reply": "2021-07-30T15:55:23.505894Z",
     "shell.execute_reply.started": "2021-07-30T15:51:50.435525Z"
    },
    "papermill": {
     "duration": 0.797748,
     "end_time": "2021-07-30T15:55:23.506460",
     "exception": false,
     "start_time": "2021-07-30T15:55:22.708712",
     "status": "completed"
    },
    "tags": []
   },
   "outputs": [
    {
     "data": {
      "text/plain": [
       "joy         5362\n",
       "sadness     4666\n",
       "anger       2159\n",
       "fear        1937\n",
       "love        1304\n",
       "surprise     572\n",
       "Name: Emotion, dtype: int64"
      ]
     },
     "execution_count": 261,
     "metadata": {},
     "output_type": "execute_result"
    }
   ],
   "source": [
    "df_train.Emotion.value_counts()"
   ]
  },
  {
   "cell_type": "markdown",
   "id": "6fcf3c63",
   "metadata": {},
   "source": [
    "## Data Preprocessing"
   ]
  },
  {
   "cell_type": "code",
   "execution_count": 262,
   "id": "9de64e8f",
   "metadata": {},
   "outputs": [],
   "source": [
    "# encode label\n",
    "y_train = y_train.replace({'joy':1, 'sadness':0, 'anger':0, 'fear':0, 'love':1, 'surprise':1})\n",
    "y_test = y_test.replace({'joy':1, 'sadness':0, 'anger':0, 'fear':0, 'love':1, 'surprise':1})"
   ]
  },
  {
   "cell_type": "code",
   "execution_count": 263,
   "id": "e45acbde",
   "metadata": {},
   "outputs": [],
   "source": [
    "from sklearn.feature_extraction.text import TfidfVectorizer\n",
    "tfidf = TfidfVectorizer(sublinear_tf=True, min_df=5)#, stop_words='english')\n",
    "\n",
    "# We transform each text into a vector\n",
    "x_train = tfidf.fit_transform(x_train).toarray()\n",
    "x_test = tfidf.transform(x_test).toarray()"
   ]
  },
  {
   "cell_type": "code",
   "execution_count": 264,
   "id": "6dd38370",
   "metadata": {},
   "outputs": [],
   "source": [
    "def evaluator(y_test, y_pred):\n",
    "    # Initialize variables for the confusion matrix\n",
    "    true_positive = 0 \n",
    "    false_positive = 0\n",
    "    true_negative = 0\n",
    "    false_negative = 0\n",
    "\n",
    "    # Calculate confusion matrix\n",
    "    for i in range(len(y_test)):\n",
    "        if y_test[i] == 1 and y_pred[i] == 1:\n",
    "            true_positive += 1\n",
    "        elif y_test[i] == 0 and y_pred[i] == 1:\n",
    "            false_positive += 1\n",
    "        elif y_test[i] == 0 and y_pred[i] == 0:\n",
    "            true_negative += 1\n",
    "        elif y_test[i] == 1 and y_pred[i] == 0:\n",
    "            false_negative += 1\n",
    "\n",
    "    # Calculate accuracy\n",
    "    accuracy = (true_positive + true_negative) / (true_positive + true_negative + false_positive + false_negative)\n",
    "    # Calculate precision\n",
    "    precision = true_positive / (true_positive + false_positive)\n",
    "    # Calculate recall\n",
    "    recall = true_positive / (true_positive + false_negative)\n",
    "    # Calculate F1-score\n",
    "    f1_score = 2 * (precision * recall) / (precision + recall)\n",
    "\n",
    "    # Return the calculated metrics\n",
    "    return {\n",
    "        \"Confusion Matrix\": {\n",
    "            \"True Positive\": true_positive,\n",
    "            \"False Positive\": false_positive,\n",
    "            \"True Negative\": true_negative,\n",
    "            \"False Negative\": false_negative,\n",
    "        },\n",
    "        \"Accuracy\": accuracy,\n",
    "        \"Precision\": precision,\n",
    "        \"Recall\": recall,\n",
    "        \"F1-Score\": f1_score,\n",
    "    }"
   ]
  },
  {
   "cell_type": "code",
   "execution_count": 265,
   "id": "141ff2cd",
   "metadata": {},
   "outputs": [],
   "source": [
    "class SimpleFeedbackLearning(object):\n",
    "    def __init__(self):\n",
    "        self.history = {}\n",
    "        self.history['train_acc'] = []\n",
    "        self.history['test_acc'] = []\n",
    "        \n",
    "    def f(self, x):\n",
    "            # Activation function (e.g., ReLU)\n",
    "            fx = np.maximum(0, x)\n",
    "            return fx\n",
    "        \n",
    "    def train(self, x, y, x_test, y_test, learning_rate=0.1, n_iters=10, verbose=True):\n",
    "        n_train, input_size = x.shape\n",
    "        n_test = x_test.shape[0]\n",
    "        # weight initialization\n",
    "        self.W = np.zeros(input_size)\n",
    "        self.b = np.zeros(1)\n",
    "\n",
    "        for i in range(n_iters):\n",
    "            for xi, yi in zip(x, y):\n",
    "                # Forward\n",
    "                output = np.dot(xi, self.W) + self.b\n",
    "                a = self.f(output)\n",
    "                # Calculate prediction error\n",
    "                error = a - yi\n",
    "\n",
    "                # Adjust weights based on feedback\n",
    "                # # Predicted output is greater than actual\n",
    "                if error > 0:  \n",
    "                    self.W -= learning_rate * xi\n",
    "                    self.b -= learning_rate\n",
    "                # Predicted output is less than actual\n",
    "                elif error < 0:  \n",
    "                    self.W += learning_rate * xi\n",
    "                    self.b += learning_rate\n",
    "\n",
    "            train_acc = (self.predict(x) == y).sum() / n_train\n",
    "            test_acc = (self.predict(x_test) == y_test).sum() / n_test\n",
    "            self.history['train_acc'].append(train_acc)\n",
    "            self.history['test_acc'].append(test_acc)\n",
    "            if verbose:\n",
    "                print('epoch %d, train acc %.4f, test acc %.4f' % (i + 1, train_acc, test_acc))\n",
    "\n",
    "    def predict(self, x):\n",
    "        # Use the trained weights to predict labels and return the predicted labels\n",
    "        output = np.dot(x, self.W) + self.b\n",
    "        y_pred = np.round(self.f(output))\n",
    "        return y_pred"
   ]
  },
  {
   "cell_type": "code",
   "execution_count": 266,
   "id": "5ff486a5",
   "metadata": {},
   "outputs": [
    {
     "name": "stdout",
     "output_type": "stream",
     "text": [
      "epoch 1, train acc 0.5534, test acc 0.5450\n",
      "epoch 2, train acc 0.7373, test acc 0.7250\n",
      "epoch 3, train acc 0.8684, test acc 0.8625\n",
      "epoch 4, train acc 0.9137, test acc 0.9050\n",
      "epoch 5, train acc 0.9262, test acc 0.9245\n",
      "epoch 6, train acc 0.9266, test acc 0.9240\n",
      "epoch 7, train acc 0.9379, test acc 0.9350\n",
      "epoch 8, train acc 0.9472, test acc 0.9420\n",
      "epoch 9, train acc 0.9516, test acc 0.9425\n",
      "epoch 10, train acc 0.9569, test acc 0.9460\n",
      "epoch 11, train acc 0.9584, test acc 0.9475\n",
      "epoch 12, train acc 0.9583, test acc 0.9500\n",
      "epoch 13, train acc 0.9571, test acc 0.9495\n",
      "epoch 14, train acc 0.9592, test acc 0.9505\n",
      "epoch 15, train acc 0.9593, test acc 0.9495\n",
      "epoch 16, train acc 0.9622, test acc 0.9510\n",
      "epoch 17, train acc 0.9619, test acc 0.9520\n",
      "epoch 18, train acc 0.9623, test acc 0.9510\n",
      "epoch 19, train acc 0.9625, test acc 0.9510\n",
      "epoch 20, train acc 0.9627, test acc 0.9510\n"
     ]
    }
   ],
   "source": [
    "####################################################################################################\n",
    "# enter code here to initialize and train the model\n",
    "# Initialize the model\n",
    "model1 = SimpleFeedbackLearning()\n",
    "# Hyperparameters\n",
    "learning_rate = 0.01\n",
    "n_iters = 20\n",
    "# Train the model\n",
    "model1.train(x_train, y_train, x_test, y_test, learning_rate=learning_rate, n_iters=n_iters, verbose=True)\n",
    "####################################################################################################\n"
   ]
  },
  {
   "cell_type": "code",
   "execution_count": 267,
   "id": "5f96a63c",
   "metadata": {},
   "outputs": [
    {
     "data": {
      "image/png": "[encoded data removed]",
      "text/plain": [
       "<Figure size 640x480 with 1 Axes>"
      ]
     },
     "metadata": {},
     "output_type": "display_data"
    }
   ],
   "source": [
    "# Plot the accuracy\n",
    "plt.plot(model1.history['train_acc'], label='train_acc')\n",
    "plt.plot(model1.history['test_acc'], label='test_acc')\n",
    "plt.legend()\n",
    "plt.xlabel('Epoch')\n",
    "plt.ylabel('Accuracy')\n",
    "plt.title('Training and Testing Accuracy')\n",
    "plt.show()"
   ]
  },
  {
   "cell_type": "code",
   "execution_count": 268,
   "id": "49b42d82",
   "metadata": {},
   "outputs": [
    {
     "name": "stdout",
     "output_type": "stream",
     "text": [
      "Evaluation Results:\n",
      "Confusion Matrix:\n",
      "True Positive: 844\n",
      "False Positive: 22\n",
      "True Negative: 1058\n",
      "False Negative: 65\n",
      "Accuracy: 0.9562594268476622\n",
      "Precision: 0.9745958429561201\n",
      "Recall: 0.9284928492849285\n",
      "F1-Score: 0.9509859154929577\n"
     ]
    }
   ],
   "source": [
    "####################################################################################################\n",
    "# enter code here to evaluate the model with the evaluator function\n",
    "# Evaluate the model on the test data\n",
    "y_pred = model1.predict(x_test)\n",
    "results = evaluator(y_test, y_pred)\n",
    "\n",
    "# Print the evaluation results\n",
    "print(\"Evaluation Results:\")\n",
    "print(\"Confusion Matrix:\")\n",
    "print(\"True Positive:\", results['Confusion Matrix']['True Positive'])\n",
    "print(\"False Positive:\", results['Confusion Matrix']['False Positive'])\n",
    "print(\"True Negative:\", results['Confusion Matrix']['True Negative'])\n",
    "print(\"False Negative:\", results['Confusion Matrix']['False Negative'])\n",
    "print(\"Accuracy:\", results['Accuracy'])\n",
    "print(\"Precision:\", results['Precision'])\n",
    "print(\"Recall:\", results['Recall'])\n",
    "print(\"F1-Score:\", results['F1-Score'])\n",
    "\n",
    "####################################################################################################"
   ]
  }
 ],
 "metadata": {
  "kernelspec": {
   "display_name": "Python 3",
   "language": "python",
   "name": "python3"
  },
  "language_info": {
   "codemirror_mode": {
    "name": "ipython",
    "version": 3
   },
   "file_extension": ".py",
   "mimetype": "text/x-python",
   "name": "python",
   "nbconvert_exporter": "python",
   "pygments_lexer": "ipython3",
   "version": "3.10.7"
  },
  "papermill": {
   "default_parameters": {},
   "duration": 94.692615,
   "end_time": "2021-07-30T15:56:50.140202",
   "environment_variables": {},
   "exception": null,
   "input_path": "__notebook__.ipynb",
   "output_path": "__notebook__.ipynb",
   "parameters": {},
   "start_time": "2021-07-30T15:55:15.447587",
   "version": "2.3.3"
  }
 },
 "nbformat": 4,
 "nbformat_minor": 5
}
